{
 "cells": [
  {
   "cell_type": "markdown",
   "id": "09206e4a-9705-4f2e-8cea-f9cabfa2475e",
   "metadata": {},
   "source": [
    "# Hands-On Introduction to compiling & linking"
   ]
  },
  {
   "cell_type": "markdown",
   "id": "5060b1c9-f0c4-43b9-9278-5262e21d4080",
   "metadata": {},
   "source": [
    "Generally speaking there are <b><font color=\"green\">2 types</font></b> of computer languages:\n",
    "* <b><font color=\"green\">interpreted languages</font></b>: Python, R, Julia, Lua, Matlab, ...\n",
    "  - very fast to generate code/to test out an idea.\n",
    "  - generally speaking slower than compiled code.\n",
    "* <b><font color=\"green\">compiled languages</font></b>: Fortran, C, C++, Java, Rust,...\n",
    "  - requires the compilation of source code into an executable\n",
    "  - generates (in general) faster code but it takes a longer time to create/debug.\n",
    "\n",
    "In what follows we will focus on:\n",
    "* <b><font color=\"red\">compiled</font></b> languages (in particular C, C++ and some Fortran).\n",
    "* the <b><font color=\"red\">different phases</font></b> of the compilation process.\n",
    "* <b><font color=\"red\">tools</font></b> to generate executables.<br> In common parlance, this tool bears\n",
    "  the name of a <b><font color=\"green\">compiler</font></b><br> but a more apppropiate name (due to the different phases involved) is a <b><font color=\"green\">compiler suite</font></b>."
   ]
  },
  {
   "cell_type": "markdown",
   "id": "53a351b8-bc49-4b0c-aaf5-4e2b09c71cac",
   "metadata": {},
   "source": [
    "## Tools"
   ]
  },
  {
   "cell_type": "markdown",
   "id": "025bde2b-20d4-4a2d-9e93-ccd4fbd9f996",
   "metadata": {},
   "source": [
    "There are several <font color=\"green\"><b>compiler suites</b></font> available for the Linux OS:\n",
    "* <a href=\"https://gcc.gnu.org/\">GNU Compiler Suite</a>: ($\\texttt{gcc}$, $\\texttt{g++}$, $\\texttt{gfortran}$)\n",
    "* <a href=\"https://www.intel.com/content/www/us/en/developer/articles/guide/porting-guide-for-ifort-to-ifx.html\">\n",
    "  Intel Fortran Compiler</a>: ($\\texttt{ifx}$: Intel Fortran frontend based on LLVM-based technology).<br>\n",
    "  Before the rebranding the compiler was named: $\\texttt{ifort}$.\n",
    "* <a href=\"https://www.intel.com/content/www/us/en/developer/articles/guide/porting-guide-for-icc-users-to-dpcpp-or-icx.html\">Intel C, C++ compilers</a>: ($\\texttt{icx}$, $\\texttt{icpx}$: Intel oneAPI DPC++/C++ Compiler)<br>\n",
    "  Before the rebranding their names were: $\\texttt{icc},\\texttt{icpc}$.\n",
    "* <a href=\"https://developer.nvidia.com/hpc-sdk/index.html\">NVIDIA HPC SDK (Current Version)</a>:\n",
    "  ($\\texttt{nvc}$, $\\texttt{nvc++}$, $\\texttt{nvfortran}$)<br>\n",
    "  - The Portland Group (PGI) was purchased by NVIDIA, Inc.\n",
    "  - The PGI compilers bore the following names: $\\texttt{pgf90}$, $\\texttt{pgcc}$, $\\texttt{pgCC}$.<br>\n",
    "  <b><font color=\"red\">Note:</font></b> <br>$\\texttt{nvcc}$: CUDA C and CUDA C++ compiler for NVIDIA GPUs.\n",
    "* <a href=\"https://llvm.org/\">LLVM Compiler Infrastructure</a>:$\\texttt{clang}$ (C & C++), $\\texttt{flang}$. "
   ]
  },
  {
   "cell_type": "markdown",
   "id": "058ee946-212a-49c5-b6af-52e8593f2d8b",
   "metadata": {},
   "source": [
    "## Compilation process"
   ]
  },
  {
   "cell_type": "markdown",
   "id": "ed2e9cae-c9d5-466f-ae08-67d4029e0f5f",
   "metadata": {},
   "source": [
    "The creation of an object file ($\\texttt{*.o}$) goes through <font color=\"green\"><b>several phases</b></font>:\n",
    "* creation of the source code \n",
    "* preprocessing\n",
    "* linguistic analysis\n",
    "* creation of assembly code\n",
    "* generation of an object file "
   ]
  },
  {
   "cell_type": "markdown",
   "id": "7fd62fe4-a8bf-4a17-80a6-b9ad32556dcd",
   "metadata": {},
   "source": [
    "## Linking of object files into an executable"
   ]
  },
  {
   "cell_type": "markdown",
   "id": "799cad39-8f7f-4271-9726-6118a61c39e6",
   "metadata": {},
   "source": [
    "* the creation of an <font color=\"green\"><b>executable</b></font> requires putting the object files together \n",
    "in such a way that they can be executed on the machine.\n",
    "* however, the creation of an <font color=\"green\"><b>executable</b></font> is <font color=\"red\"><b>NOT</b></font> required.<br>\n",
    "  - we can decide to put the object files in a repository (<font color=\"green\"><b>library</b></font>).\n",
    "  - the functions/data within the repository can then be (re)used by other codes (these functions/data are getting <font color=\"green\"\n",
    "                                                                                                  ><b>linked</b></font> in).\n",
    "  - technically there are <font color=\"red\"><b>2</b></font> kinds of libraries:\n",
    "    * <font color=\"green\"><b>static</b></font> libraries ($\\texttt{.a}$ suffix -> $\\texttt{archive}$) \n",
    "    * <font color=\"green\"><b>dynamic</b></font> libraries ($\\texttt{.so}$ suffix -> $\\texttt{shared object}$)"
   ]
  },
  {
   "cell_type": "markdown",
   "id": "ac1f4fec-4c6a-4ef0-9cfd-97412274ab87",
   "metadata": {},
   "source": [
    "### I.Compilation process "
   ]
  },
  {
   "cell_type": "markdown",
   "id": "2f8d0202-74bd-48cc-b41f-685339442d2b",
   "metadata": {},
   "source": [
    "In what we will discuss each of the aforementioned compilation phases"
   ]
  },
  {
   "cell_type": "markdown",
   "id": "56a92270-76b3-4d4c-bf5b-34beddaf447a",
   "metadata": {},
   "source": [
    "#### I.1.Creation of the source code"
   ]
  },
  {
   "cell_type": "markdown",
   "id": "56c6c2e3-0d68-49bd-8722-d6eeb5166f44",
   "metadata": {},
   "source": [
    "* The creation of the code (and the debugging process) requires by far most of the time.\n",
    "* Languages:\n",
    "  - $\\texttt{C}$ language:\n",
    "    + $\\texttt{.c}$ suffixes: source files\n",
    "    + $\\texttt{.h}$ suffixes: header files\n",
    "      * header files contains <font color=\"green\"><b>declarations</b></font> of functions, specify types, attributes.\n",
    "      * <font color=\"green\"><b>definitions</b></font>: provide implementations and allocates memory\n",
    "  - $\\texttt{C++}$ language:\n",
    "    + $\\texttt{.cc,.cpp.,.cxx}$ suffixes: source files\n",
    "    + $\\texttt{.h,.hpp}$ suffixes: header files\n",
    "  - $\\texttt{Fortran}$ language:\n",
    "    + $\\texttt{.f,.f77}$: Fortran $\\texttt{F77}$ -> <font color=\"red\"><b>fixed</b></font> format\n",
    "    + $\\texttt{.f90}$: Fortran $\\texttt{F90}$ and later -> no fixed format   "
   ]
  },
  {
   "cell_type": "raw",
   "id": "3fea0595-fb5a-429a-9162-f658111ab3d5",
   "metadata": {},
   "source": [
    "/* Example of a declaration */\n",
    "extern double z;\n",
    "int add(int a, int b);\n",
    "\n",
    "/* Example of definitions */\n",
    "#define PI 3.1415\n",
    "int add(int a, int b){\n",
    "   return a + b;\n",
    "}"
   ]
  },
  {
   "cell_type": "markdown",
   "id": "956a8639-0191-407c-80c9-c918452ef2c7",
   "metadata": {},
   "source": [
    "Note:\n",
    "* $\\texttt{C++}$ is a stricter than $\\texttt{C}$ w.r.t function declarations:\n",
    "  $\\texttt{C++}$ allows <a href=\"https://en.wikipedia.org/wiki/Function_overloading\">function overloading</a> (C doesn't).\n",
    "* The standards of these languages (cfr. English, German,..) evolve, e.g.:\n",
    "  - In the original $\\texttt{ANSI C}$ standard the $\\texttt{bool}$ and $\\texttt{complex}$ types did not exist, therefore<br>\n",
    "    * $\\texttt{typedef enum\\{false,true\\} bool;}$\n",
    "    * $\\texttt{typedef struct COMPLEX\\{double re; double im;\\} complex;}$\n",
    "  - In the original $\\texttt{C++}$ STLs were absent.\n",
    "  - In $F77$, constructs such as $\\texttt{interface, allocate,..}$ did not exist.\n",
    "* $\\Rightarrow$ insert \"$\\texttt{-std=}$\" flag during compilation to inform compiler on a non-default version of the language.<br>\n",
    "  e.g. $\\texttt{-std=c11}$ ($\\texttt{C11}$ ISO), $\\texttt{-std=c++17}$ ($\\texttt{C++2017}$ ISO).\n",
    "     "
   ]
  },
  {
   "cell_type": "markdown",
   "id": "a5ec84bd-64ae-45a6-9b9d-1a895625e99a",
   "metadata": {},
   "source": [
    "### I.2.Preprocessing"
   ]
  },
  {
   "cell_type": "markdown",
   "id": "ed31841b-d394-41a3-87f6-1c27bcbcfc8c",
   "metadata": {},
   "source": [
    "During the preprocessing the source code is modified in the following way:\n",
    "* <font color=\"blue\"><b>#include</b></font> statements are materialized i.e. (<font color=\"green\"><b>header</b></font> files are inserted in the source code).\n",
    "* <font color=\"blue\"><b>#define</b></font> statements are replaced by their code/values, e.g.:\n",
    "  - $\\texttt{\\#define abs(x) ((x>0)?(x):-(x))}$\n",
    "  - $\\texttt{\\#define PI (4.0*atan(1.0))}$\n",
    "* <font color=\"green\"><b>directives</b></font> such as $\\texttt{\\#if(n)def}$, $\\texttt{\\#elif}$, $\\texttt{\\#endif}$ are evaluated.\n",
    "* <font color=\"red\"><b>in praxi</b></font>:\n",
    "  + the GNU preprocessor is $\\texttt{cpp}$. You can invoke it directly in the following way:\n",
    "    - $\\texttt{cpp [-D<stat>] <source\\_file.c> -o <source\\_file.i>}$ \n",
    "  + you can also invoke the compiler and force it to stop after the preprocessor step ($\\texttt{-E}$), <br>\n",
    "    - $\\texttt{gcc -E [-D<stat>] <source\\_file.c> -o <source\\_file.i>}$ \n"
   ]
  },
  {
   "cell_type": "markdown",
   "id": "24958676-6135-4354-9567-bb34536f2526",
   "metadata": {},
   "source": [
    "#### Exercise\n",
    "* Locate the strings $\\texttt{SETSEED}$ and $\\texttt{SZ}$ in the source file $\\texttt{rand.c}$.\n",
    "* Generate the file $\\texttt{rand.i}$ by using the preprocessor flag $\\texttt{-DSETSEED}$.\n",
    "* Find the string $\\texttt{SZ}$ in $\\texttt{rand.i}$\n",
    "* What happens when the preprocessor flag $\\texttt{-DSETSEED}$ is not used?\n"
   ]
  },
  {
   "cell_type": "markdown",
   "id": "bd4c5deb-2c53-4d63-9b07-cf00f395d7c4",
   "metadata": {},
   "source": [
    "### I.3.Linguistic Analysis"
   ]
  },
  {
   "cell_type": "markdown",
   "id": "61dadfad-556b-44db-9af5-48ce4af2ab4e",
   "metadata": {},
   "source": [
    "Most commonly broken down in 3 steps:\n",
    "* <font color=\"green\"><b>lexical analysis</b></font> (lexing): breaks the code into non-divisible tokens<br>\n",
    "   $\\texttt{c = a \\%b;}$ i.e.:\n",
    "   + $\\texttt{('c','identifier')}$\n",
    "   + $\\texttt{('=','operator')}$\n",
    "   + $\\texttt{('a','identifier')}$\n",
    "   + $\\texttt{('\\%','operator')}$\n",
    "   + $\\texttt{('b','identifier')}$\n",
    "   + $\\texttt{(';','separator')}$\n",
    "* <font color=\"green\"><b>parsing</b></font>: concatenates token in chain of tokens<br>\n",
    "   takes the input tokens and converts to a data structure (parser tree) cfr. Polish notation\n",
    "* <font color=\"green\"><b>semantic analysis</b></font>: are the statements syntactically correct?<br>\n",
    "   includes type checking e.g.:\n",
    "   - $\\texttt{const char *s=\"hello world\";}$\n",
    "   - $\\texttt{s += 2;}$"
   ]
  },
  {
   "cell_type": "markdown",
   "id": "f50b7791-c4c2-47fc-9700-f648448c59bb",
   "metadata": {},
   "source": [
    "### I.4.Generation of the assembler code"
   ]
  },
  {
   "cell_type": "markdown",
   "id": "98f5bf9b-4b26-4258-a7bb-3312d492c618",
   "metadata": {},
   "source": [
    "- Converts the <font color=\"green\"><b>source</b></font> code (after succesfully invoking the preprocessor & checking for \n",
    "syntax errors) into <font color=\"green\"><b>assembly</b></font> language.\n",
    "- Assembly language is still human readable (ASCII).\n",
    "- <font color=\"red\"><b>in praxi</b></font>\n",
    "  + you can also invoke the compiler and force it to stop after generating the assembler code ($\\texttt{-S}$), <br>\n",
    "    - $\\texttt{gcc -S [-D<stat>] <source\\_file.\\{c,i\\}> -o <source\\_file.s>}$\n",
    "  + assembler code comes in different formats e.g. $\\texttt{att}$, $\\texttt{intel}$. You can specify then as follows:<br>\n",
    "    - $\\texttt{-masm=intel}$"
   ]
  },
  {
   "cell_type": "markdown",
   "id": "065f334d-653a-4a2d-8733-0dc2553c3008",
   "metadata": {},
   "source": [
    "#### Exercise\n",
    "- Generate the assembler code $\\texttt{rand.s}$ from either $\\texttt{rand.i}$ or $\\texttt{rand.c}$.\n",
    "- Have a peak into the file $\\texttt{rand.s}$"
   ]
  },
  {
   "cell_type": "markdown",
   "id": "f42b416b-6933-480a-ae21-daddefad8110",
   "metadata": {},
   "source": [
    "### I.5.Creation of the object file"
   ]
  },
  {
   "cell_type": "markdown",
   "id": "392dd076-f0e2-4e10-b715-8a75471491bd",
   "metadata": {},
   "source": [
    "- Creates an object file/machine code ($\\texttt{.o}$ suffix) from a human-readable file\n",
    "- Format (Linux): **E**xecutable and **L**inkable **F**ormat (ELF)\n",
    "- Main parts:\n",
    "  + symbols: references to memory addresses\n",
    "  + sections:\n",
    "    - code ($\\texttt{.text}$)\n",
    "    - initialized data ($\\texttt{.data}$)\n",
    "    - uninitialized data ($\\texttt{.bss}$)\n",
    "- <font color=\"red\"><b>in praxi</b></font>, choose either:\n",
    "  + $\\texttt{gcc -c [-D<stat>] <source\\_file.c> -o <source\\_file.o>}$\n",
    "  + $\\texttt{as <source\\_file.s> -o <source\\_file.o>}$<br>\n",
    "    ($\\texttt{as}$: GNU assembler)"
   ]
  },
  {
   "cell_type": "markdown",
   "id": "89e35938-62a8-4189-86a9-94d69afd521e",
   "metadata": {},
   "source": [
    "#### Exercise\n",
    "- Generate the object file $\\texttt{rand.o}$ from the source file $\\texttt{rand.c}$\n",
    "- Check the type of the file $\\texttt{rand.o}$"
   ]
  },
  {
   "cell_type": "markdown",
   "id": "ac8d296d-9c5e-48cb-9ade-9ecaa65a619e",
   "metadata": {},
   "source": [
    "If you want to <font color=\"green\"><b>investigate</b></font> the content of an object file, use the command $\\texttt{objdump}$."
   ]
  },
  {
   "cell_type": "markdown",
   "id": "8be959c4-8e50-4bb3-848a-500c7cf3c25e",
   "metadata": {},
   "source": [
    "#### Exercise\n",
    "- Try the command: $\\texttt{objdump -D rand.o}$. ($\\texttt{-D}$: disassemble all sections)"
   ]
  },
  {
   "cell_type": "markdown",
   "id": "722a7681-4df7-47a2-9192-73b6c9cf0553",
   "metadata": {},
   "source": [
    "### II.Linking process"
   ]
  },
  {
   "cell_type": "markdown",
   "id": "d924c677-9284-408f-9420-234369e5bee1",
   "metadata": {},
   "source": [
    "* Process of collecting of several files into 1 file.\n",
    "* The new file should be able to:\n",
    "  + be loaded in memory\n",
    "  + be executed\n",
    "* Name of the <font color=\"red\"><b>low-level</b>></font> GNU linker: $\\texttt{ld}$\n",
    "* <font color=\"red\"><b>In praxi</b></font> use $\\texttt{gcc}$<br>\n",
    "  * $\\texttt{gcc [-o <name\\_exe>] *.o [<lib\\_info>]}$\n",
    "  * Note:\n",
    "    * if $\\texttt{[-o <name\\_exe>]}$ is omitted the executable will be $\\texttt{a.out}$.\n",
    "    * the linking flag $\\texttt{-Wl,--verbose}$ is a great tool to debug the linking process (cfr. $\\texttt{strace}$)."
   ]
  },
  {
   "cell_type": "markdown",
   "id": "c0ca0d34-74c8-4057-8275-4599e649f939",
   "metadata": {},
   "source": [
    "#### Exercise \n",
    "* On Rocky8 (using gcc 8.5.0):<br>\n",
    "  + $\\texttt{gcc -c [-DSETSEED] rand.c}$\n",
    "  + $\\texttt{ld rand.o /usr/lib64/crt1.o /usr/lib64/crti.o  /usr/lib64/crtn.o  -lc -dynamic-linker /lib64/ld-linux-x86-64.so.2}$\n",
    "  + $\\texttt{./a.out}$\n",
    "  + $\\texttt{gcc [-DSETSEED] rand.c}$  <font color=\"green\"><b># Alternative using $\\texttt{gcc}$</b></font>\n",
    "  + $\\texttt{./a.out}$\n",
    "  + $\\texttt{EXE=myexe}$ <font color=\"green\"><b># Creation of the executable $\\texttt{\\$EXE}$ instead of $\\texttt{a.out}$</b></font>\n",
    "  + $\\texttt{ld -o \\$EXE /usr/lib64/crt1.o rand.o /usr/lib64/crti.o  /usr/lib64/crtn.o  -lc -dynamic-linker /lib64/ld-linux-x86-64.so.2}$\n",
    "  + $\\texttt{./myexe}$\n",
    "  + $\\texttt{gcc -o \\texttt{\\$EXE} [-DSETSEED] rand.c}$  <font color=\"green\"><b># Alternative using $\\texttt{gcc}$</b></font>\n",
    "  + $\\texttt{./myexe}$"
   ]
  },
  {
   "cell_type": "markdown",
   "id": "912734d4-8c8a-40f3-9103-85b3978698c5",
   "metadata": {},
   "source": [
    "## Extension 1:"
   ]
  },
  {
   "cell_type": "markdown",
   "id": "de9974e3-9ea2-481a-aad5-4e0a21e60ec9",
   "metadata": {},
   "source": [
    "### I.Compilation"
   ]
  },
  {
   "cell_type": "markdown",
   "id": "3f44b4d3-aa43-498c-beb1-3668c280c83f",
   "metadata": {},
   "source": [
    "* Often header files (*.h) are stored in a <font color=\"green\"><b>different directory</b></font> than the source code.\n",
    "* The compilation process only requires the <font color=\"green\"><b>declaration</b></font> of functions, ... <font color=\"red\"><b>NOT their actual implementation</b></font>.\n",
    "* <font color=\"red\"><b>in praxi,</b></font>\n",
    "  * You MUST specify the directory ($\\texttt{INCDIR}$) where the header files are stored.<br>In order to do so, you need prepend each directory with the $\\texttt{-I}$\n",
    "    flag where $\\texttt{I}$ stands for *include*. You may encounter constructs like $\\texttt{-I.},\\texttt{-I\\$INCDIR}$.\n"
   ]
  },
  {
   "cell_type": "markdown",
   "id": "11588975-4c69-4f0c-af07-667b3f58409b",
   "metadata": {},
   "source": [
    "#### Exercise: \n",
    "* The folder vector has the following structure\n",
    "  * $\\texttt{src/vector.c}$\n",
    "  * $\\texttt{lib}$ : currently empty (we will create the library $\\texttt{libvector.so}$ in the next step) \n",
    "  * $\\texttt{include/vector.h}$\n",
    "  * $\\texttt{check/testvec.c}$\n",
    "* Build the executable $\\texttt{testvec}$ which depends on $\\texttt{vector.c}$. <br>\n",
    "  Make sure that the content of the vector is of the type $\\texttt{unsigned int (UINT)}$.\n",
    "  "
   ]
  },
  {
   "cell_type": "markdown",
   "id": "534f47a3-fdab-43b5-9e6c-03d081097aaa",
   "metadata": {},
   "source": [
    "### II.Linking"
   ]
  },
  {
   "cell_type": "markdown",
   "id": "add2b1e5-1c62-41ff-b3dd-a55bae0a3abe",
   "metadata": {},
   "source": [
    "Objects can be stored in a library.<br>\n",
    "In what follows we assume that: *we have one or more libraries at our disposal.*\n",
    "\n",
    "The <font color=\"blue\"><b>compilation process</b></font> requires **ONLY** the declarations of the objects:<br>\n",
    "the compiler must be aware of the function names, the argument lists, and the return types<br>\n",
    "of those functions which are invoked **without** having their actual implementation (i.e. *header files satisfy this demand*).\n",
    "\n",
    "At <font color=\"blue\"><b>linking time</b></font> the implementation of **ALL** objects is **required** to create an executable.\n",
    "\n",
    "<font color=\"red\"><b>in praxi, </b></font>the linking of libraries into an executable happens as follows:<br> \n",
    "* $\\texttt{gcc [-o \\$EXE] *.o -L\\$LIBDIR1 -lname1 [-L\\$LIBDIR2 -lname2]}$ <br>\n",
    "  - $\\texttt{\\$LIBDIRx}$ is a library directory  \n",
    "  - whose corresponding library name is $\\texttt{libnamex.so}$\n",
    "  - $\\texttt{\\$EXE}$: name of the executable\n",
    "\n",
    "* $\\texttt{gcc [-o \\$EXE] *.o -Wl,--rpath=\\$LIBDIR1 -L\\$LIBDIR1 -lname1 [-Wl,--rpath=\\$LIBDIR2 -L\\$LIBDIR2 -lname2]}$   \n",
    "\n",
    "<font color=\"red\"><b>Note:</b></font>  \n",
    "* In the <font color=\"blue\"><b>first approach</b></font>, the dynamic library is used only at <font color=\"green\"><b>linking time</b></font> to create the executable.\n",
    "* At <font color=\"green\"><b>run time</b></font>, the executable \n",
    "has no notion of the directory where the dynamic library is located unless it is explicitly set in $\\texttt{LD\\_LIBRARY\\_PATH}$.\n",
    "* The <font color=\"blue\"><b>second approach</b></font> not only specifies the dynamic library to be used at <font color=\"green\"><b>linking time</b></font>\n",
    "  **but** <br> also specifies where this dynamic library is to be found at <font color=\"green\"><b>run time</b></font> ($\\Rightarrow rpath$) . This approach is to be preferred.\n",
    "* The <font color=\"blue\"><b>third approach</b></font> is a very-low level approach and rarely used: modify the <font color=\"green\"><b>runpath</b></font> **after** the executable has been built but without relinking or the use of $\\texttt{LD\\_LIBRARY\\_PATH}$.<br> The command is named <a href=\"https://github.com/NixOS/patchelf\">$\\texttt{patchelf}$</a>.<br>\n",
    "Example: $\\texttt{patchelf --set-rpath /uufs/chpc.utah.edu/common/home/u0253283/software/pkg/python/3.12.5/lib:\\$MPDECIMAL/lib/ ./python3.12}$\n",
    "    "
   ]
  },
  {
   "cell_type": "markdown",
   "id": "8e329845-0b21-40b4-bd8a-50fb62681206",
   "metadata": {},
   "source": [
    "#### Exercise\n",
    "* Step 1: Create the dynamic library $\\texttt{libvector.so}$\n",
    "  - $\\texttt{cd vector/src \\&\\& gcc -c -fPIC -I../include vector.c}$  <font color=\"red\"><b>    # Do NOT forget the -fPIC flag!!!!</b></font>\n",
    "  - $\\texttt{cd ../lib \\&\\& gcc -shared -o libvector.so ../src/vector.o}$\n",
    "* Step 2: You can see the symbols in the library by using the $\\texttt{nm}$ command.<br>\n",
    "  - Try $\\texttt{nm libvector.so}$\n",
    "* Step 3: Go to the directory $\\texttt{collatz}$ (the Collatz problem is still a conjecture, see e.g. <a href=\"https://youtu.be/k-dtx8s2ehM?si=83nhSOVkyYeFFDTI\">here</a>)\n",
    "  - Create the following two executables $\\texttt{test\\_col,run\\_collatz}$.\n",
    "  - You need to use the dynamic library $\\texttt{libvector.so}$ to create both executables (use the first & second approaches)"
   ]
  },
  {
   "cell_type": "markdown",
   "id": "ac6fcb09-418a-4971-97de-9859b32d2ee7",
   "metadata": {},
   "source": [
    "## Compilation Flags (to be done)"
   ]
  },
  {
   "cell_type": "raw",
   "id": "963b72c8-050d-4918-9ac4-df8817fee6ed",
   "metadata": {},
   "source": [
    "Important Compilation flags:\n",
    "- fPIC\n",
    "- static\n",
    "- optimization (O2/inlining)\n",
    "- target architectures\n",
    "- Env. Variables"
   ]
  },
  {
   "cell_type": "code",
   "execution_count": null,
   "id": "21eaaa3c-19f6-49b3-9709-97db8325b9b2",
   "metadata": {},
   "outputs": [],
   "source": []
  }
 ],
 "metadata": {
  "kernelspec": {
   "display_name": "Python 3 (ipykernel)",
   "language": "python",
   "name": "python3"
  },
  "language_info": {
   "codemirror_mode": {
    "name": "ipython",
    "version": 3
   },
   "file_extension": ".py",
   "mimetype": "text/x-python",
   "name": "python",
   "nbconvert_exporter": "python",
   "pygments_lexer": "ipython3",
   "version": "3.12.7"
  }
 },
 "nbformat": 4,
 "nbformat_minor": 5
}
